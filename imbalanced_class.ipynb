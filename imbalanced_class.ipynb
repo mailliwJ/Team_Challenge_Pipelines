{
 "cells": [
  {
   "cell_type": "code",
   "execution_count": 2,
   "metadata": {},
   "outputs": [],
   "source": [
    "import pandas as pd\n",
    "import seaborn as sns\n",
    "from imblearn.datasets import fetch_datasets"
   ]
  },
  {
   "cell_type": "code",
   "execution_count": null,
   "metadata": {},
   "outputs": [],
   "source": []
  },
  {
   "cell_type": "markdown",
   "metadata": {},
   "source": [
    "Class Weight"
   ]
  },
  {
   "cell_type": "code",
   "execution_count": null,
   "metadata": {},
   "outputs": [],
   "source": [
    "lr_clf = LogisticRegression(class_weight = \"balanced\", max_iter = 10000)\n",
    "lr_clf.fit(X_train, y_train)\n",
    "y_pred_test = lr_clf.predict(X_test)"
   ]
  },
  {
   "cell_type": "markdown",
   "metadata": {},
   "source": [
    "Oversampling (Smote)"
   ]
  },
  {
   "cell_type": "code",
   "execution_count": null,
   "metadata": {},
   "outputs": [],
   "source": [
    "from imblearn.over_sampling import SMOTE\n",
    "\n",
    "smote = SMOTE(random_state=42)\n",
    "X_train_smote, y_train_smote = smote.fit_resample(X_train, y_train)\n",
    "\n",
    "# Entrenar el modelo con los datos sobremuestreados\n",
    "modelo_smote = LogisticRegression(random_state=42, max_iter = 25000)\n",
    "modelo_smote.fit(X_train_smote, y_train_smote)\n",
    "pd.Series.value_counts(y_train_smote)\n",
    "\n",
    "# Realizar predicciones y evaluar el modelo\n",
    "y_pred_smote = modelo_smote.predict(X_test)\n",
    "print(classification_report(y_test, y_pred_smote))"
   ]
  },
  {
   "cell_type": "markdown",
   "metadata": {},
   "source": [
    "Undersample"
   ]
  },
  {
   "cell_type": "code",
   "execution_count": null,
   "metadata": {},
   "outputs": [],
   "source": [
    "from imblearn.under_sampling import RandomUnderSampler \n",
    "\n",
    "rus = RandomUnderSampler(random_state=42)\n",
    "X_rus, y_rus = rus.fit_resample(X_train, y_train)\n",
    "print(\"Distribución de clases después del undersampling:\", pd.Series.value_counts(y_rus))\n",
    "\n",
    "# Entrenar el modelo con los datos bajomuestreados\n",
    "rf_clf_us = RandomForestClassifier(max_depth= 5, random_state= 42)\n",
    "rf_clf_us.fit(X_rus, y_rus)\n",
    "\n",
    "# Realizar predicciones y evaluar el modelo\n",
    "y_pred = rf_clf_us.predict(X_test)\n",
    "print(classification_report(y_test, y_pred))"
   ]
  },
  {
   "cell_type": "markdown",
   "metadata": {},
   "source": [
    "Bucle para comparar diferentes modelos"
   ]
  },
  {
   "cell_type": "code",
   "execution_count": null,
   "metadata": {},
   "outputs": [],
   "source": [
    "from sklearn.model_selection import cross_val_score\n",
    "\n",
    "#REGRESIÓN\n",
    "# Lista de nombres de modelos\n",
    "modelos = [\"RandomForestRegressor\", \"LGBMRegressor\", \"XGBRegressor\", \"GradientBoostingRegressor\", \"KNN\"]\n",
    "metricas = []\n",
    "\n",
    "# Instanciación de los modelos\n",
    "rnd_reg = RandomForestRegressor(random_state=42)\n",
    "lgbm_reg = LGBMRegressor(random_state=42)\n",
    "xgb_reg = XGBRegressor(random_state=42)\n",
    "gb_reg = GradientBoostingRegressor(random_state=42)\n",
    "knn_reg = KNeighborsRegressor(n_neighbors=5)\n",
    "\n",
    "# Bucle para evaluar los modelos\n",
    "for nombre, modelo in zip(modelos, [rnd_reg, lgbm_reg, xgb_reg, gb_reg, knn_reg]):\n",
    "    print(f\"Para {nombre}:\", end=\" \")\n",
    "    \n",
    "    # Cross validation con métrica de regresión adecuada\n",
    "    metrica = np.mean(cross_val_score(modelo, X_train, y_train, cv=5, scoring=\"neg_mean_squared_error\"))\n",
    "    \n",
    "    # Imprimir la métrica\n",
    "    print(metrica)\n",
    "    \n",
    "    # Añadir la métrica a la lista\n",
    "    metricas.append(metrica)"
   ]
  }
 ],
 "metadata": {
  "kernelspec": {
   "display_name": "Python 3",
   "language": "python",
   "name": "python3"
  },
  "language_info": {
   "codemirror_mode": {
    "name": "ipython",
    "version": 3
   },
   "file_extension": ".py",
   "mimetype": "text/x-python",
   "name": "python",
   "nbconvert_exporter": "python",
   "pygments_lexer": "ipython3",
   "version": "3.12.4"
  }
 },
 "nbformat": 4,
 "nbformat_minor": 2
}
