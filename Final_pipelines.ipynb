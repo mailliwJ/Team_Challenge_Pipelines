{
 "cells": [
  {
   "cell_type": "markdown",
   "metadata": {},
   "source": [
    "# Pipelines"
   ]
  },
  {
   "cell_type": "markdown",
   "metadata": {},
   "source": [
    "Se valorará la inclusión de:\n",
    "\n",
    "* Pipelines\n",
    "* Estimadores supervisados y no supervisados\n",
    "* Onehotencoder sin errores si una variable categórica tiene valores que aparecen o no en train, validación y test\n",
    "* GridsearchCV\n",
    "* Validación cruzada y explicar la gran ventaja de los pipelines en validación cruzada.\n",
    "* Regresión donde el target no esté ditribuido de forma gaussiana\n",
    "* Clasificación donde el target esté desbalanceado (¡¡¡ojo!!!)\n",
    "\n",
    "Enlaces:\n",
    "* [Sklearn](https://scikit-learn.org/stable/common_pitfalls.html)\n",
    "* [Imbalanced-learn](https://imbalanced-learn.org/stable/common_pitfalls.html)"
   ]
  },
  {
   "cell_type": "code",
   "execution_count": null,
   "metadata": {},
   "outputs": [],
   "source": [
    "import numpy as np\n",
    "import pandas as pd\n",
    "import pickle\n",
    "\n",
    "# Pipelines\n",
    "from sklearn.pipeline import Pipeline, make_pipeline\n",
    "from sklearn.compose import ColumnTransformer"
   ]
  }
 ],
 "metadata": {
  "language_info": {
   "name": "python"
  }
 },
 "nbformat": 4,
 "nbformat_minor": 2
}
