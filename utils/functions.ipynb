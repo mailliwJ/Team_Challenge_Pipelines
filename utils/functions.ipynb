{
 "cells": [
  {
   "cell_type": "code",
   "execution_count": 1,
   "metadata": {},
   "outputs": [],
   "source": [
    "import pandas as pd\n",
    "import numpy as np\n",
    "\n",
    "from sklearn.model_selection import train_test_split\n",
    "import functions as ft"
   ]
  },
  {
   "cell_type": "code",
   "execution_count": 2,
   "metadata": {},
   "outputs": [],
   "source": [
    "# Clasificadores\n",
    "\n",
    "from sklearn.linear_model import LogisticRegression\n",
    "from sklearn.ensemble import RandomForestClassifier\n",
    "from lightgbm import LGBMClassifier\n",
    "from xgboost import XGBClassifier\n",
    "from sklearn.neighbors import KNeighborsClassifier\n",
    "\n",
    "df = pd.read_csv('./data/credit_npo.csv')\n",
    "ndp = 'NumberOfDependents'\n",
    "mi = 'MonthlyIncome'\n",
    "train_set, test_set = train_test_split(df, test_size= 0.2, random_state= 42)\n",
    "\n",
    "moda_train = train_set[ndp].mode()\n",
    "moda_train = moda_train[0] # lo convierto en un valor (antes era un serie de pandas)\n",
    "train_set[ndp] = train_set[ndp].fillna(moda_train)\n",
    "test_set[ndp] = test_set[ndp].fillna(moda_train)\n",
    "mediana = train_set[mi].quantile(0.5)\n",
    "train_set[mi] = train_set[mi].fillna(mediana)\n",
    "test_set[mi] = test_set[mi].fillna(mediana)\n",
    "\n",
    "target = 'SeriousDlqin2yrs'\n",
    "features = [col for col in train_set.columns if col != target]\n",
    "for col in features:\n",
    "    if col != 'age':\n",
    "        train_set[col] = np.log(train_set[col] + 1)\n",
    "        test_set[col] = np.log(test_set[col] + 1) \n",
    "\n",
    "X_train_cl = train_set[features]\n",
    "y_train_cl = train_set[target]\n",
    "X_test_cl = test_set[features]\n",
    "y_test_cl = test_set[target]\n",
    "\n",
    "\n",
    "lgr_cl = LogisticRegression(max_iter = 10000, random_state = 42)\n",
    "knn_cl = KNeighborsClassifier(n_neighbors = 5)\n",
    "rf_cl = RandomForestClassifier(random_state = 42)\n",
    "xgb_cl = XGBClassifier(max_depth = 5, verbosity = 0, random_state = 42)\n",
    "lgb_cl = LGBMClassifier(max_depth = 5, verbosity = -1, random_state = 42)\n",
    "\n",
    "cl_model_names = ['Logistic Regression', 'KNN', 'Random Forest', 'XGBoost', 'LightGBM']\n",
    "cl_models = [lgr_cl, knn_cl, rf_cl, xgb_cl, lgb_cl]"
   ]
  },
  {
   "cell_type": "code",
   "execution_count": 3,
   "metadata": {},
   "outputs": [],
   "source": [
    "# Regresores\n",
    "\n",
    "from sklearn.ensemble import RandomForestRegressor, GradientBoostingRegressor\n",
    "from lightgbm import LGBMRegressor\n",
    "from xgboost import XGBRegressor\n",
    "from sklearn.neighbors import KNeighborsRegressor\n",
    "from sklearn.model_selection import cross_val_score\n",
    "\n",
    "df = pd.read_csv('./data/dataset_viajes_jun23.csv')\n",
    "df.drop('id_vuelo', axis = 1, inplace = True) \n",
    "df.drop('mes', axis = 1, inplace = True) \n",
    "col_cat = df.select_dtypes(include = 'object').columns.to_list()\n",
    "df = pd.get_dummies(df, columns= col_cat, dtype= int)\n",
    "train_set, test_set = train_test_split(df, test_size= 0.2, random_state= 42)\n",
    "\n",
    "X_train_reg = train_set.drop('ingresos', axis = 1)\n",
    "X_test_reg = test_set.drop('ingresos', axis = 1)\n",
    "y_train_reg = train_set['ingresos']\n",
    "y_test_reg = test_set['ingresos']\n",
    "\n",
    "rnd_reg = RandomForestRegressor(random_state=42)\n",
    "lgbm_reg = LGBMRegressor(random_state=42)\n",
    "xgb_reg = XGBRegressor(random_state=42)\n",
    "gb_reg = GradientBoostingRegressor(random_state=42)\n",
    "knn_reg = KNeighborsRegressor(n_neighbors=5)\n",
    "\n",
    "rg_model_names = ['RandomForestRegressor', 'LGBMRegressor', 'XGBRegressor', 'GradientBoostingRegressor', 'KNN']\n",
    "rg_models = [rnd_reg, lgbm_reg, xgb_reg, gb_reg, knn_reg]"
   ]
  }
 ],
 "metadata": {
  "kernelspec": {
   "display_name": "Python 3",
   "language": "python",
   "name": "python3"
  },
  "language_info": {
   "codemirror_mode": {
    "name": "ipython",
    "version": 3
   },
   "file_extension": ".py",
   "mimetype": "text/x-python",
   "name": "python",
   "nbconvert_exporter": "python",
   "pygments_lexer": "ipython3",
   "version": "3.12.4"
  }
 },
 "nbformat": 4,
 "nbformat_minor": 2
}
